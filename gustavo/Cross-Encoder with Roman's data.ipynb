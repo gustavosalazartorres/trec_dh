{
 "cells": [
  {
   "cell_type": "code",
   "execution_count": null,
   "id": "5161fd3b",
   "metadata": {},
   "outputs": [],
   "source": [
    "from sentence_transformers import SentenceTransformer, InputExample\n",
    "from sentence_transformers.cross_encoder import CrossEncoder\n",
    "import gzip\n",
    "import json\n",
    "import random\n",
    "from torch.utils.data import Dataset, IterableDataset\n",
    "import logging\n",
    "from torch.utils.data import DataLoader\n",
    "from sentence_transformers.cross_encoder.evaluation import CEBinaryClassificationEvaluator\n",
    "from sentence_transformers.cross_encoder.evaluation import CERerankingEvaluator\n",
    "import math\n",
    "import pandas as pd\n",
    "from sentence_transformers import LoggingHandler, util\n",
    "import torch.nn\n",
    "import zstandard as zstd"
   ]
  },
  {
   "cell_type": "markdown",
   "id": "3ad65947",
   "metadata": {},
   "source": [
    "### Reading data"
   ]
  },
  {
   "cell_type": "code",
   "execution_count": null,
   "id": "24cdb69d",
   "metadata": {},
   "outputs": [],
   "source": [
    "files = [\"agnews.jsonl\", \"allnli2.json\", \"amazon-qa.jsonl\", \"amazon-review.jsonl\",\n",
    "        \"ccnews.jsonl\", \"cnn_dailymail.jsonl\", \"eli5.jsonl\", \"nq.jsonl\", \"paq.jsonl\",\n",
    "        \"s2orc_title_abs.jsonl\", \"trivia_qa.jsonl\"]"
   ]
  },
  {
   "cell_type": "code",
   "execution_count": null,
   "id": "7c780e94",
   "metadata": {},
   "outputs": [],
   "source": [
    "path=\"/Users/g.salazar.2/Downloads/roman_data/TREC\""
   ]
  },
  {
   "cell_type": "code",
   "execution_count": null,
   "id": "36aafe98",
   "metadata": {},
   "outputs": [],
   "source": [
    "final_files = [path+\"/\"+x for x in files]"
   ]
  },
  {
   "cell_type": "code",
   "execution_count": null,
   "id": "300e3d23",
   "metadata": {},
   "outputs": [],
   "source": [
    "final_files"
   ]
  },
  {
   "cell_type": "code",
   "execution_count": null,
   "id": "3c65963b",
   "metadata": {},
   "outputs": [],
   "source": [
    "a=pd.read_json(final_files[4], lines=True)"
   ]
  },
  {
   "cell_type": "code",
   "execution_count": null,
   "id": "95bffd6a",
   "metadata": {},
   "outputs": [],
   "source": [
    "a.loc[1]['neg']"
   ]
  },
  {
   "cell_type": "code",
   "execution_count": null,
   "id": "00fa5949",
   "metadata": {},
   "outputs": [],
   "source": [
    "with open(final_files[0], \"rb\") as f:\n",
    "    data = f.read()"
   ]
  },
  {
   "cell_type": "code",
   "execution_count": null,
   "id": "8e17695a",
   "metadata": {},
   "outputs": [],
   "source": [
    "data"
   ]
  }
 ],
 "metadata": {
  "kernelspec": {
   "display_name": "Python 3 (ipykernel)",
   "language": "python",
   "name": "python3"
  },
  "language_info": {
   "codemirror_mode": {
    "name": "ipython",
    "version": 3
   },
   "file_extension": ".py",
   "mimetype": "text/x-python",
   "name": "python",
   "nbconvert_exporter": "python",
   "pygments_lexer": "ipython3",
   "version": "3.8.16"
  }
 },
 "nbformat": 4,
 "nbformat_minor": 5
}
