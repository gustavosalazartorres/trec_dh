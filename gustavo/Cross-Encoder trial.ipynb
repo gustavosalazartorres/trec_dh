{
 "cells": [
  {
   "cell_type": "code",
   "execution_count": 7,
   "id": "4ef9557a",
   "metadata": {},
   "outputs": [],
   "source": [
    "from sentence_transformers import SentenceTransformer, InputExample\n",
    "from sentence_transformers.cross_encoder import CrossEncoder\n",
    "import gzip\n",
    "import json\n",
    "import random\n",
    "from torch.utils.data import Dataset, IterableDataset\n",
    "import logging\n",
    "from torch.utils.data import DataLoader\n",
    "from sentence_transformers.cross_encoder.evaluation import CEBinaryClassificationEvaluator\n",
    "from sentence_transformers.cross_encoder.evaluation import CERerankingEvaluator\n",
    "import math\n",
    "from sentence_transformers import LoggingHandler, util\n",
    "import torch.nn"
   ]
  },
  {
   "cell_type": "code",
   "execution_count": 40,
   "id": "5c578cb2",
   "metadata": {},
   "outputs": [],
   "source": [
    "def get_example(raw_example):\n",
    "    if isinstance(raw_example, dict):\n",
    "        return InputExample(texts=[raw_example['query'], random.choice(raw_example['pos'])], label=random.randint(0, 3))\n",
    "    else:\n",
    "        return InputExample(texts=[raw_example[0], raw_example[1]], label=random.randint(0, 3))\n",
    "        \n",
    "def load_pair_dataset(filepath):\n",
    "    examples=[]\n",
    "    with gzip.open(filepath, 'rt') as fIn:\n",
    "            for line in fIn:\n",
    "                example = get_example(json.loads(line))\n",
    "                examples.append(example)\n",
    "    return examples\n",
    "\n",
    "full_set = load_pair_dataset(\"/Users/g.salazar.2/git/trec_dh/gustavo/gooaq_pairs.jsonl.gz\")"
   ]
  },
  {
   "cell_type": "code",
   "execution_count": 42,
   "id": "8b0de46a",
   "metadata": {},
   "outputs": [
    {
     "data": {
      "text/plain": [
       "3012496"
      ]
     },
     "execution_count": 42,
     "metadata": {},
     "output_type": "execute_result"
    }
   ],
   "source": [
    "len(full_set)"
   ]
  },
  {
   "cell_type": "code",
   "execution_count": 41,
   "id": "32d01cdb",
   "metadata": {},
   "outputs": [],
   "source": [
    "from sklearn.model_selection import train_test_split\n",
    "(train_set, test_set) = train_test_split(full_set, test_size=0.33, random_state=42, shuffle=False)"
   ]
  },
  {
   "cell_type": "code",
   "execution_count": 43,
   "id": "2796bcda",
   "metadata": {},
   "outputs": [
    {
     "data": {
      "text/plain": [
       "(2018372, 994124)"
      ]
     },
     "execution_count": 43,
     "metadata": {},
     "output_type": "execute_result"
    }
   ],
   "source": [
    "len(train_set), len(test_set)"
   ]
  },
  {
   "cell_type": "code",
   "execution_count": null,
   "id": "22f1c595",
   "metadata": {},
   "outputs": [
    {
     "data": {
      "application/vnd.jupyter.widget-view+json": {
       "model_id": "f5205dc6340a46348456f23bc5d518f6",
       "version_major": 2,
       "version_minor": 0
      },
      "text/plain": [
       "Downloading (…)lve/main/config.json:   0%|          | 0.00/580 [00:00<?, ?B/s]"
      ]
     },
     "metadata": {},
     "output_type": "display_data"
    },
    {
     "data": {
      "application/vnd.jupyter.widget-view+json": {
       "model_id": "a2f0fed2a1ea495282085abc07faa950",
       "version_major": 2,
       "version_minor": 0
      },
      "text/plain": [
       "Downloading pytorch_model.bin:   0%|          | 0.00/874M [00:00<?, ?B/s]"
      ]
     },
     "metadata": {},
     "output_type": "display_data"
    },
    {
     "name": "stderr",
     "output_type": "stream",
     "text": [
      "Some weights of the model checkpoint at microsoft/deberta-v3-large were not used when initializing DebertaV2ForSequenceClassification: ['mask_predictions.dense.weight', 'mask_predictions.dense.bias', 'mask_predictions.LayerNorm.bias', 'lm_predictions.lm_head.dense.weight', 'lm_predictions.lm_head.bias', 'mask_predictions.classifier.bias', 'lm_predictions.lm_head.LayerNorm.bias', 'mask_predictions.LayerNorm.weight', 'lm_predictions.lm_head.LayerNorm.weight', 'mask_predictions.classifier.weight', 'lm_predictions.lm_head.dense.bias']\n",
      "- This IS expected if you are initializing DebertaV2ForSequenceClassification from the checkpoint of a model trained on another task or with another architecture (e.g. initializing a BertForSequenceClassification model from a BertForPreTraining model).\n",
      "- This IS NOT expected if you are initializing DebertaV2ForSequenceClassification from the checkpoint of a model that you expect to be exactly identical (initializing a BertForSequenceClassification model from a BertForSequenceClassification model).\n",
      "Some weights of DebertaV2ForSequenceClassification were not initialized from the model checkpoint at microsoft/deberta-v3-large and are newly initialized: ['pooler.dense.bias', 'pooler.dense.weight', 'classifier.bias', 'classifier.weight']\n",
      "You should probably TRAIN this model on a down-stream task to be able to use it for predictions and inference.\n"
     ]
    },
    {
     "data": {
      "application/vnd.jupyter.widget-view+json": {
       "model_id": "4247f2cdf6d74132b12f7a76d3ea5606",
       "version_major": 2,
       "version_minor": 0
      },
      "text/plain": [
       "Downloading (…)okenizer_config.json:   0%|          | 0.00/52.0 [00:00<?, ?B/s]"
      ]
     },
     "metadata": {},
     "output_type": "display_data"
    },
    {
     "data": {
      "application/vnd.jupyter.widget-view+json": {
       "model_id": "be3e3ff9f2834dd792a960fc48753b1b",
       "version_major": 2,
       "version_minor": 0
      },
      "text/plain": [
       "Downloading spm.model:   0%|          | 0.00/2.46M [00:00<?, ?B/s]"
      ]
     },
     "metadata": {},
     "output_type": "display_data"
    },
    {
     "name": "stderr",
     "output_type": "stream",
     "text": [
      "Special tokens have been added in the vocabulary, make sure the associated word embeddings are fine-tuned or trained.\n",
      "/usr/local/lib/python3.8/site-packages/transformers/convert_slow_tokenizer.py:454: UserWarning: The sentencepiece tokenizer that you are converting to a fast tokenizer uses the byte fallback option which is not implemented in the fast tokenizers. In practice this means that the fast version of the tokenizer can produce unknown tokens whereas the sentencepiece version would have converted these unknown tokens into a sequence of byte tokens matching the original piece of text.\n",
      "  warnings.warn(\n",
      "Special tokens have been added in the vocabulary, make sure the associated word embeddings are fine-tuned or trained.\n"
     ]
    },
    {
     "name": "stdout",
     "output_type": "stream",
     "text": [
      "2023-06-04 03:19:45 - Use pytorch device: cpu\n",
      "2023-06-04 03:19:45 - Warmup-steps: 50460\n"
     ]
    },
    {
     "data": {
      "application/vnd.jupyter.widget-view+json": {
       "model_id": "f9ca9b2d2eee4d9e9641a9bc5a1fd218",
       "version_major": 2,
       "version_minor": 0
      },
      "text/plain": [
       "Epoch:   0%|          | 0/1 [00:00<?, ?it/s]"
      ]
     },
     "metadata": {},
     "output_type": "display_data"
    },
    {
     "data": {
      "application/vnd.jupyter.widget-view+json": {
       "model_id": "2d7da98a95e94d938632da0303cb2402",
       "version_major": 2,
       "version_minor": 0
      },
      "text/plain": [
       "Iteration:   0%|          | 0/504593 [00:00<?, ?it/s]"
      ]
     },
     "metadata": {},
     "output_type": "display_data"
    },
    {
     "name": "stderr",
     "output_type": "stream",
     "text": [
      "Asking to truncate to max_length but no maximum length is provided and the model has no predefined maximum length. Default to no truncation.\n"
     ]
    }
   ],
   "source": [
    "\n",
    "logging.basicConfig(format='%(asctime)s - %(message)s',\n",
    "                    datefmt='%Y-%m-%d %H:%M:%S',\n",
    "                    level=logging.INFO,\n",
    "                    handlers=[LoggingHandler()])\n",
    "logger = logging.getLogger(__name__)\n",
    "\n",
    "train_batch_size = 4\n",
    "num_epochs = 1\n",
    "num_labels = 4\n",
    "max_length = 512\n",
    "evaluation_steps = 100\n",
    "lr = 7e-6\n",
    "\n",
    "train_dataloader = DataLoader(train_set, shuffle=True, batch_size=train_batch_size)\n",
    "warmup_steps = math.ceil(len(train_dataloader) * num_epochs * 0.1) #10% of train data for warm-up\n",
    "\n",
    "default_activation_function = torch.nn.Identity()\n",
    "\n",
    "model = CrossEncoder('microsoft/deberta-v3-large', num_labels=num_labels, \n",
    "                     tokenizer_args={'pad_token': '[PAD]'}, \n",
    "                     default_activation_function=default_activation_function)\n",
    "\n",
    "evaluator = CERerankingEvaluator(test_set, name='train-eval')\n",
    "\n",
    "\n",
    "logger.info(\"Warmup-steps: {}\".format(warmup_steps))\n",
    "loss_fct=torch.nn.L1Loss()\n",
    "\n",
    "model.config.pad_token_id = model.tokenizer.pad_token_id\n",
    "\n",
    "model.fit(train_dataloader=train_dataloader,\n",
    "          evaluator=evaluator,\n",
    "          epochs=num_epochs,\n",
    "          evaluation_steps=evaluation_steps,\n",
    "          warmup_steps=warmup_steps,\n",
    "          optimizer_params={'lr': lr},\n",
    "          output_path=\"model_saved\")\n",
    "\n"
   ]
  }
 ],
 "metadata": {
  "kernelspec": {
   "display_name": "Python 3 (ipykernel)",
   "language": "python",
   "name": "python3"
  },
  "language_info": {
   "codemirror_mode": {
    "name": "ipython",
    "version": 3
   },
   "file_extension": ".py",
   "mimetype": "text/x-python",
   "name": "python",
   "nbconvert_exporter": "python",
   "pygments_lexer": "ipython3",
   "version": "3.8.16"
  }
 },
 "nbformat": 4,
 "nbformat_minor": 5
}
