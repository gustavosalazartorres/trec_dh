{
 "cells": [
  {
   "cell_type": "code",
   "execution_count": null,
   "id": "4ef9557a",
   "metadata": {},
   "outputs": [],
   "source": [
    "from sentence_transformers import SentenceTransformer, InputExample\n",
    "from sentence_transformers.cross_encoder import CrossEncoder\n",
    "import gzip\n",
    "import json\n",
    "import random\n",
    "from torch.utils.data import Dataset, IterableDataset\n",
    "import logging\n",
    "from torch.utils.data import DataLoader\n",
    "from sentence_transformers.cross_encoder.evaluation import CEBinaryClassificationEvaluator\n",
    "from sentence_transformers.cross_encoder.evaluation import CERerankingEvaluator\n",
    "import math\n",
    "from sentence_transformers import LoggingHandler, util\n",
    "import torch.nn"
   ]
  },
  {
   "cell_type": "markdown",
   "id": "6dd8cb3e",
   "metadata": {},
   "source": [
    "### Data from https://huggingface.co/datasets/sentence-transformers/embedding-training-data"
   ]
  },
  {
   "cell_type": "code",
   "execution_count": null,
   "id": "c7826e83",
   "metadata": {},
   "outputs": [],
   "source": [
    "pairs=[\"gooaq_pairs.jsonl.gz\"]\n",
    "\n",
    "triplets=[\"quora_duplicates_triplets.jsonl.gz\", \"AllNLI.jsonl.gz\", \"specter_train_triples.jsonl.gz\", \n",
    "       \"msmarco-triplets.jsonl.gz\"]\n",
    "\n",
    "path=\"/Users/g.salazar.2/Downloads/trec_data\"\n",
    "\n",
    "st_path = \"/sentence_transformers_embedding_data\"\n",
    "esci_path = \"/esci\"\n",
    "trec_path = \"/trec\"\n"
   ]
  },
  {
   "cell_type": "code",
   "execution_count": null,
   "id": "01aaead4",
   "metadata": {},
   "outputs": [],
   "source": [
    "st_pairs_files = [path+st_path+\"/\"+x for x in pairs]\n",
    "st_triplets_files = [path+st_path+\"/\"+x for x in triplets]        "
   ]
  },
  {
   "cell_type": "code",
   "execution_count": null,
   "id": "5c578cb2",
   "metadata": {},
   "outputs": [],
   "source": [
    "\n",
    "def get_triplet_example(raw_example):\n",
    "    if isinstance(raw_example, dict):\n",
    "        query = raw_example['query']\n",
    "        pos = raw_example['pos']\n",
    "        neg = raw_example['neg']\n",
    "        examples=[]\n",
    "        pos_example = InputExample(texts=[query, pos], label=3)\n",
    "        neg_examples = [InputExample(texts=[query, x], label=0) for x in neg]\n",
    "        neg_examples.append(pos_example)\n",
    "        return neg_examples\n",
    "    else:\n",
    "        query = raw_example[0]\n",
    "        pos = raw_example[1]\n",
    "        neg = raw_example[2]\n",
    "        pos_example = InputExample(texts=[query, pos], label=3)\n",
    "        neg_example = InputExample(texts=[query, neg], label=0)\n",
    "        return [pos_example, neg_example]\n",
    "    \n",
    "def get_pair_example(raw_example):\n",
    "    return InputExample(texts=[raw_example[0], raw_example[1]], label=3)\n",
    "\n"
   ]
  },
  {
   "cell_type": "code",
   "execution_count": null,
   "id": "bdfffca0",
   "metadata": {},
   "outputs": [],
   "source": [
    "def load_pair_dataset(filepath):\n",
    "    examples=[]\n",
    "    with gzip.open(filepath, 'rt') as fIn:\n",
    "            for line in fIn:\n",
    "                example = get_pair_example(json.loads(line))\n",
    "                examples.append(example)\n",
    "    return examples\n",
    "\n",
    "def load_triplet_dataset(filepath):\n",
    "    examples=[]\n",
    "    with gzip.open(filepath, 'rt') as fIn:\n",
    "            for line in fIn:\n",
    "                example = get_triplet_example(json.loads(line))\n",
    "                examples.extend(example)\n",
    "    return examples"
   ]
  },
  {
   "cell_type": "code",
   "execution_count": null,
   "id": "e1421cd4",
   "metadata": {},
   "outputs": [],
   "source": [
    "full_set=[]\n",
    "for file in st_pairs_files:\n",
    "    print(\"Processing \"+file)\n",
    "    full_set.extend(load_pair_dataset(file))\n",
    "    \n",
    "for file in st_triplets_files:\n",
    "    print(\"Processing \"+file)\n",
    "    full_set.extend(load_triplet_dataset(file))\n"
   ]
  },
  {
   "cell_type": "markdown",
   "id": "dd3355b4",
   "metadata": {},
   "source": [
    "### Dataset size"
   ]
  },
  {
   "cell_type": "code",
   "execution_count": null,
   "id": "fdffb33f",
   "metadata": {},
   "outputs": [],
   "source": [
    "len(full_set)"
   ]
  },
  {
   "cell_type": "markdown",
   "id": "5c8ffa9f",
   "metadata": {},
   "source": [
    "### Data from Amazon ESCI"
   ]
  },
  {
   "cell_type": "code",
   "execution_count": null,
   "id": "6dfa8fc9",
   "metadata": {},
   "outputs": [],
   "source": [
    "import pandas as pd\n",
    "df_examples = pd.read_parquet(path+esci_path+\"/shopping_queries_dataset_examples.parquet\")\n",
    "df_products = pd.read_parquet(path+esci_path+\"/shopping_queries_dataset_products.parquet\")\n",
    "df_sources = pd.read_csv(path+esci_path+\"/shopping_queries_dataset_sources.csv\")"
   ]
  },
  {
   "cell_type": "code",
   "execution_count": null,
   "id": "939bde26",
   "metadata": {},
   "outputs": [],
   "source": [
    "df_examples_products = pd.merge(\n",
    "    df_examples,\n",
    "    df_products,\n",
    "    how='left',\n",
    "    left_on=['product_locale','product_id'],\n",
    "    right_on=['product_locale', 'product_id']\n",
    ")"
   ]
  },
  {
   "cell_type": "code",
   "execution_count": null,
   "id": "fabd0b28",
   "metadata": {},
   "outputs": [],
   "source": [
    "df_task_1 = df_examples_products[df_examples_products[\"large_version\"] == 1]\n",
    "df_task_1_train = df_task_1[df_task_1[\"split\"] == \"train\"]\n",
    "df_task_1_test = df_task_1[df_task_1[\"split\"] == \"test\"]"
   ]
  },
  {
   "cell_type": "code",
   "execution_count": null,
   "id": "3d6a9327",
   "metadata": {},
   "outputs": [],
   "source": [
    "df_task_1_train"
   ]
  },
  {
   "cell_type": "code",
   "execution_count": null,
   "id": "09945869",
   "metadata": {},
   "outputs": [],
   "source": [
    "esci_western_products = df_task_1_train[df_task_1_train[\"product_locale\"]!=\"jp\"][[\"query\", \"product_title\", \"esci_label\"]]"
   ]
  },
  {
   "cell_type": "code",
   "execution_count": null,
   "id": "c94c785c",
   "metadata": {},
   "outputs": [],
   "source": [
    "non_western_queries = ['자전거트레일러', '골프공', '가마솥', '茶叶', '肽', '睡衣 女', '眼镜框', 'земфира', 'кроссовки', 'مبخرة', 'محفظه رجاليه']\n",
    "clean_esci_phase1 = esci_western_products[~esci_western_products['query'].isin(non_western_queries)]"
   ]
  },
  {
   "cell_type": "code",
   "execution_count": null,
   "id": "26bae642",
   "metadata": {},
   "outputs": [],
   "source": [
    "esci_labels = {\"E\": 3, \"S\": 2, \"C\": 1, \"I\": 0}\n",
    "esci_numeric_labels = clean_esci_phase1.replace({'esci_label': esci_labels})"
   ]
  },
  {
   "cell_type": "markdown",
   "id": "9d432f73",
   "metadata": {},
   "source": [
    "esci_numeric_labels"
   ]
  },
  {
   "cell_type": "code",
   "execution_count": null,
   "id": "3d1db1bb",
   "metadata": {},
   "outputs": [],
   "source": [
    "def get_esci_pair_example(row):\n",
    "    return InputExample(texts=[row['query'], row['product_title']], label=row['esci_label'])\n",
    "    \n",
    "train_esci_data = esci_numeric_labels.apply(lambda row: get_esci_pair_example(row), axis=1)\n",
    "\n",
    "full_set.extend(train_esci_data)"
   ]
  },
  {
   "cell_type": "markdown",
   "id": "f5d4fa0d",
   "metadata": {},
   "source": [
    "### Dataset size"
   ]
  },
  {
   "cell_type": "code",
   "execution_count": null,
   "id": "87f5d124",
   "metadata": {},
   "outputs": [],
   "source": [
    "len(full_set)"
   ]
  },
  {
   "cell_type": "code",
   "execution_count": null,
   "id": "22f1c595",
   "metadata": {},
   "outputs": [],
   "source": [
    "\n",
    "logging.basicConfig(format='%(asctime)s - %(message)s',\n",
    "                    datefmt='%Y-%m-%d %H:%M:%S',\n",
    "                    level=logging.INFO,\n",
    "                    handlers=[LoggingHandler()])\n",
    "logger = logging.getLogger(__name__)\n",
    "\n",
    "train_batch_size = 4\n",
    "num_epochs = 1\n",
    "num_labels = 4\n",
    "max_length = 512\n",
    "evaluation_steps = 100\n",
    "lr = 7e-6\n",
    "\n",
    "train_dataloader = DataLoader(train_set, shuffle=True, batch_size=train_batch_size)\n",
    "warmup_steps = math.ceil(len(train_dataloader) * num_epochs * 0.1) #10% of train data for warm-up\n",
    "\n",
    "default_activation_function = torch.nn.Identity()\n",
    "\n",
    "model = CrossEncoder('microsoft/deberta-v3-large', num_labels=num_labels, \n",
    "                     tokenizer_args={'pad_token': '[PAD]'}, \n",
    "                     default_activation_function=default_activation_function)\n",
    "\n",
    "evaluator = CERerankingEvaluator(test_set, name='train-eval')\n",
    "\n",
    "\n",
    "logger.info(\"Warmup-steps: {}\".format(warmup_steps))\n",
    "loss_fct=torch.nn.L1Loss()\n",
    "\n",
    "model.config.pad_token_id = model.tokenizer.pad_token_id\n",
    "\n",
    "model.fit(train_dataloader=train_dataloader,\n",
    "          evaluator=evaluator,\n",
    "          epochs=num_epochs,\n",
    "          evaluation_steps=evaluation_steps,\n",
    "          warmup_steps=warmup_steps,\n",
    "          optimizer_params={'lr': lr},\n",
    "          output_path=\"model_saved\")\n",
    "\n"
   ]
  },
  {
   "cell_type": "code",
   "execution_count": null,
   "id": "32d01cdb",
   "metadata": {},
   "outputs": [],
   "source": [
    "from sklearn.model_selection import train_test_split\n",
    "(train_set, test_set) = train_test_split(full_set, test_size=0.33, random_state=42, shuffle=False)"
   ]
  }
 ],
 "metadata": {
  "kernelspec": {
   "display_name": "Python 3 (ipykernel)",
   "language": "python",
   "name": "python3"
  },
  "language_info": {
   "codemirror_mode": {
    "name": "ipython",
    "version": 3
   },
   "file_extension": ".py",
   "mimetype": "text/x-python",
   "name": "python",
   "nbconvert_exporter": "python",
   "pygments_lexer": "ipython3",
   "version": "3.8.16"
  }
 },
 "nbformat": 4,
 "nbformat_minor": 5
}
